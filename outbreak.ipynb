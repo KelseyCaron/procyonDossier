# ===================================================
# VARIABLE DESCRIPTIONS:
# First Name
# Last Name
# SIN               Social Insurance Number
# Gender
# Sector            Neighbourhood of Origin
# Age
# Profession
# Status            Dead or alive?
# DOD               Date of Death
# Donor?            Is an organ donor?
# Chaplin Service   What chaplin service requested?
# Meal Pref
# ROOM              Hospital Room Number
# DNR?              Do not resucitate?
# Attnd. Phys.      Attending physician
#
# =====================================================

import numpy as np
import pandas as pd
import os
import matplotlib.pyplot as plt
import statistics as st
import pandas as pd
from IPython.display import Image, HTML
os.chdir('/home/trevor/Documents/GitHub/cs290AK/outbreakCity')

import matplotlib.pyplot as plt
import matplotlib.image as mpimg
img=mpimg.imread('procyon_city.png')
imgplot = plt.imshow(img)
plt.show()

report = pd.read_csv('report.csv')

report.shape
report.dtypes

report.head(5)
report.describe()
